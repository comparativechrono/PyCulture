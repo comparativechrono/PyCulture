{
  "nbformat": 4,
  "nbformat_minor": 0,
  "metadata": {
    "colab": {
      "provenance": [],
      "authorship_tag": "ABX9TyMQ4USWXgmc9rHBXg+3MTC0",
      "include_colab_link": true
    },
    "kernelspec": {
      "name": "python3",
      "display_name": "Python 3"
    },
    "language_info": {
      "name": "python"
    }
  },
  "cells": [
    {
      "cell_type": "markdown",
      "metadata": {
        "id": "view-in-github",
        "colab_type": "text"
      },
      "source": [
        "<a href=\"https://colab.research.google.com/github/comparativechrono/PyCulture/blob/main/6_well_plate.ipynb\" target=\"_parent\"><img src=\"https://colab.research.google.com/assets/colab-badge.svg\" alt=\"Open In Colab\"/></a>"
      ]
    },
    {
      "cell_type": "code",
      "execution_count": 1,
      "metadata": {
        "colab": {
          "base_uri": "https://localhost:8080/"
        },
        "id": "EkHCHQV8u1aG",
        "outputId": "642262e8-afa0-4b54-8e9b-cbabdc714d4b"
      },
      "outputs": [
        {
          "output_type": "stream",
          "name": "stdout",
          "text": [
            "Average cell count per large square: 61.75\n",
            "Cell concentration: 1235000.0 cells/ml\n",
            "Volume needed for the 6-well plate: 3.6437246963562755 ml\n",
            "Final volume after dilution: 30 ml\n"
          ]
        }
      ],
      "source": [
        "def calculate_cell_seeding_volume(counts):\n",
        "    # Input: counts is a list of the number of cells counted in each 4x4 square\n",
        "\n",
        "    # Step 1: Calculate the average cell count per large square\n",
        "    average_count = sum(counts) / len(counts)\n",
        "\n",
        "    # Step 2: Calculate the concentration of cells in cells/ml\n",
        "    cell_concentration = average_count * 20000  # Using the dilution factor\n",
        "\n",
        "    # Step 3: Calculate the total number of cells required for one plate\n",
        "    total_cells_needed = 750000 * 6  # 750,000 cells per well for 6 wells\n",
        "\n",
        "    # Step 4: Calculate the volume of cell suspension needed (ml)\n",
        "    volume_needed = total_cells_needed / cell_concentration\n",
        "\n",
        "    # Step 5: Calculate the final volume after adding to 50 ml falcon and bringing up to 30 mls\n",
        "    final_volume = 30  # Assume the final desired volume is always 30 ml\n",
        "\n",
        "    return {\n",
        "        \"average_cell_count\": average_count,\n",
        "        \"cell_concentration_cells_ml\": cell_concentration,\n",
        "        \"volume_needed_ml\": volume_needed,\n",
        "        \"final_volume_ml\": final_volume\n",
        "    }\n",
        "\n",
        "# Example usage\n",
        "counts = [55, 63, 70, 59]  # Example input\n",
        "results = calculate_cell_seeding_volume(counts)\n",
        "\n",
        "print(f\"Average cell count per large square: {results['average_cell_count']}\")\n",
        "print(f\"Cell concentration: {results['cell_concentration_cells_ml']} cells/ml\")\n",
        "print(f\"Volume needed for the 6-well plate: {results['volume_needed_ml']} ml\")\n",
        "print(f\"Final volume after dilution: {results['final_volume_ml']} ml\")\n"
      ]
    }
  ]
}